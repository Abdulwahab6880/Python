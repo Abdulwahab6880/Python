{
  "nbformat": 4,
  "nbformat_minor": 0,
  "metadata": {
    "colab": {
      "provenance": [],
      "authorship_tag": "ABX9TyNzI71DLmSD9HRXSW2/kjyL",
      "include_colab_link": true
    },
    "kernelspec": {
      "name": "python3",
      "display_name": "Python 3"
    },
    "language_info": {
      "name": "python"
    }
  },
  "cells": [
    {
      "cell_type": "markdown",
      "metadata": {
        "id": "view-in-github",
        "colab_type": "text"
      },
      "source": [
        "<a href=\"https://colab.research.google.com/github/Abdulwahab6880/Python/blob/main/Untitled2.ipynb\" target=\"_parent\"><img src=\"https://colab.research.google.com/assets/colab-badge.svg\" alt=\"Open In Colab\"/></a>"
      ]
    },
    {
      "cell_type": "markdown",
      "source": [
        "# ***Name:Abdul wahab***\n",
        "# ***Reg. No:FA24-BBD-002-B***"
      ],
      "metadata": {
        "id": "7ZQUijZGo76k"
      }
    },
    {
      "cell_type": "markdown",
      "source": [
        "# *Homework Task 1: Handling Missing Values*"
      ],
      "metadata": {
        "id": "DwEWppFWTpZp"
      }
    },
    {
      "cell_type": "code",
      "source": [
        "import pandas as pd\n",
        "data={\n",
        "    \"Name\":['faisal','Ali', 'Ahmad','bilal','Raza','wahab'],\n",
        "    \"Age\":[19,None,20,22,None,20],\n",
        "    \"city\":['lahore','multan',None,'islamabad','karachi',None]\n",
        "}\n",
        "missing_percent = (df.isna().sum() / len(df)) * 100\n",
        "columns_to_drop = missing_percent[missing_percent > 20].index\n",
        "print( columns_to_drop)\n",
        "clean = df.drop(columns_to_drop)\n",
        "print(\"Cleaned DataFrame:\")\n",
        "print(clean)\n",
        "\n"
      ],
      "metadata": {
        "colab": {
          "base_uri": "https://localhost:8080/"
        },
        "id": "qV0CtBMXTzAp",
        "outputId": "b7c09130-4dfe-4628-d159-bcd36ea175a5"
      },
      "execution_count": null,
      "outputs": [
        {
          "output_type": "stream",
          "name": "stdout",
          "text": [
            "Index([], dtype='object')\n",
            "Cleaned DataFrame:\n",
            "     Name\n",
            "0  faisal\n",
            "1     Ali\n",
            "2   Ahmad\n",
            "3   bilal\n",
            "4    Raza\n",
            "5   wahab\n"
          ]
        }
      ]
    },
    {
      "cell_type": "markdown",
      "source": [
        "# *Homework Task 2: Advanced Filtering and Indexing*"
      ],
      "metadata": {
        "id": "tvHaMdl8lYGt"
      }
    },
    {
      "cell_type": "code",
      "source": [
        "import pandas as pd\n",
        "\n",
        "data = {\n",
        "    \"Suburb\": [\"Richmond\", \"Richmond\", \"Melbourne\", \"Richmond\", \"Sydney\", \"Richmond\"],\n",
        "    \"Price\": [1200000, 950000, 2000000, 1500000, 3000000, 1100000],\n",
        "    \"BuildingArea\": [150, 200, 180, 250, 300, 175],\n",
        "    \"Landsize\": [600, 450, 700, 800, 500, 650]\n",
        "}\n",
        "\n",
        "df = pd.DataFrame(data)\n",
        "richmond_houses = df[(df[\"Suburb\"] == \"Richmond\") & (df[\"Price\"] > 1000000)]\n",
        "print(\"Properties in Richmond over $1M:\\n\", richmond_houses.head())\n",
        "df_filtered = df.loc[df[\"Landsize\"] > 500, [\"Price\", \"Suburb\", \"BuildingArea\"]]\n",
        "print(\"\\nProperties with land size > 500 sqm:\\n\", df_filtered)\n",
        "df_sorted = df.sort_values(by=\"Price\", ascending=False)\n",
        "print(\"\\nTop 5 most expensive houses:\\n\", df_sorted.head(5))\n"
      ],
      "metadata": {
        "id": "ExfMXlHXll8C",
        "colab": {
          "base_uri": "https://localhost:8080/"
        },
        "outputId": "6c7d6dcd-1090-4e43-8dd3-6c7f363c75a4"
      },
      "execution_count": null,
      "outputs": [
        {
          "output_type": "stream",
          "name": "stdout",
          "text": [
            "Properties in Richmond over $1M:\n",
            "      Suburb    Price  BuildingArea  Landsize\n",
            "0  Richmond  1200000           150       600\n",
            "3  Richmond  1500000           250       800\n",
            "5  Richmond  1100000           175       650\n",
            "\n",
            "Properties with land size > 500 sqm:\n",
            "      Price     Suburb  BuildingArea\n",
            "0  1200000   Richmond           150\n",
            "2  2000000  Melbourne           180\n",
            "3  1500000   Richmond           250\n",
            "5  1100000   Richmond           175\n",
            "\n",
            "Top 5 most expensive houses:\n",
            "       Suburb    Price  BuildingArea  Landsize\n",
            "4     Sydney  3000000           300       500\n",
            "2  Melbourne  2000000           180       700\n",
            "3   Richmond  1500000           250       800\n",
            "0   Richmond  1200000           150       600\n",
            "5   Richmond  1100000           175       650\n"
          ]
        }
      ]
    },
    {
      "cell_type": "markdown",
      "source": [
        "# ***Homework Task 3: Data Transformation & Feature Engineering***"
      ],
      "metadata": {
        "id": "MttiWEvllmDj"
      }
    },
    {
      "cell_type": "code",
      "source": [
        "import pandas as pd\n",
        "data = {\n",
        "    \"Price\": [1200000, 950000, 2000000, 1500000, 3000000, 1100000],\n",
        "    \"Rooms\": [3, 2, 4, 3, 5, 3],\n",
        "    \"Date\": [\"2023-06-15\", \"2022-08-20\", \"2021-05-10\", \"2023-12-01\", \"2020-09-05\", \"2022-03-18\"]\n",
        "}\n",
        "df = pd.DataFrame(data)\n",
        "df[\"Price_per_Room\"] = df[\"Price\"] / df[\"Rooms\"]\n",
        "df[\"Date\"] = pd.to_datetime(df[\"Date\"])\n",
        "df[\"Year_Sold\"] = df[\"Date\"].dt.year\n",
        "print(df)\n"
      ],
      "metadata": {
        "colab": {
          "base_uri": "https://localhost:8080/"
        },
        "id": "wbzmXC9Llspr",
        "outputId": "0336cc06-fcd3-45bb-e78a-eb3c75635d99"
      },
      "execution_count": null,
      "outputs": [
        {
          "output_type": "stream",
          "name": "stdout",
          "text": [
            "     Price  Rooms       Date  Price_per_Room  Year_Sold\n",
            "0  1200000      3 2023-06-15   400000.000000       2023\n",
            "1   950000      2 2022-08-20   475000.000000       2022\n",
            "2  2000000      4 2021-05-10   500000.000000       2021\n",
            "3  1500000      3 2023-12-01   500000.000000       2023\n",
            "4  3000000      5 2020-09-05   600000.000000       2020\n",
            "5  1100000      3 2022-03-18   366666.666667       2022\n"
          ]
        }
      ]
    },
    {
      "cell_type": "markdown",
      "source": [
        "# ***Homework Task 4: Aggregation and Grouping***"
      ],
      "metadata": {
        "id": "7XqKhuPNnCjz"
      }
    },
    {
      "cell_type": "code",
      "source": [
        "import pandas as pd\n",
        "data = {\n",
        "    \"Suburb\": [\"Richmond\", \"Richmond\", \"Melbourne\", \"Richmond\", \"Sydney\", \"Melbourne\"],\n",
        "    \"Price\": [1200000, 950000, 2000000, 1500000, 3000000, 2200000],\n",
        "}\n",
        "\n",
        "df = pd.DataFrame(data)\n",
        "suburb_avg_price = df.groupby(\"Suburb\")[\"Price\"].mean()\n",
        "print(\"Average price per suburb:\\n\", suburb_avg_price)\n",
        "properties_per_suburb = df.groupby(\"Suburb\")[\"Price\"].count()\n",
        "print(\"\\nNumber of properties sold per suburb:\\n\", properties_per_suburb)\n",
        "most_expensive_suburb = suburb_avg_price.idxmax()\n",
        "print(\"\\nMost expensive suburb:\", most_expensive_suburb)\n"
      ],
      "metadata": {
        "colab": {
          "base_uri": "https://localhost:8080/"
        },
        "id": "dn0w5b1KnMJd",
        "outputId": "e1bcd06c-0c6c-4630-d85b-cc7ab5726eba"
      },
      "execution_count": null,
      "outputs": [
        {
          "output_type": "stream",
          "name": "stdout",
          "text": [
            "Average price per suburb:\n",
            " Suburb\n",
            "Melbourne    2.100000e+06\n",
            "Richmond     1.216667e+06\n",
            "Sydney       3.000000e+06\n",
            "Name: Price, dtype: float64\n",
            "\n",
            "Number of properties sold per suburb:\n",
            " Suburb\n",
            "Melbourne    2\n",
            "Richmond     3\n",
            "Sydney       1\n",
            "Name: Price, dtype: int64\n",
            "\n",
            "Most expensive suburb: Sydney\n"
          ]
        }
      ]
    },
    {
      "cell_type": "markdown",
      "source": [
        "# ***Homework Task 5: Exporting & Reporting Data***"
      ],
      "metadata": {
        "id": "B7uNnv16n-X1"
      }
    },
    {
      "cell_type": "code",
      "source": [
        "import pandas as pd\n",
        "import matplotlib.pyplot as plt\n",
        "data = {\n",
        "    \"Suburb\": [\"Richmond\", \"Richmond\", \"Melbourne\", \"Richmond\", \"Sydney\", \"Melbourne\"],\n",
        "    \"Price\": [1200000, 950000, 2000000, 1500000, 3000000, 2200000],\n",
        "    \"Rooms\": [3, 2, 4, 3, 5, 4]\n",
        "}\n",
        "\n",
        "df = pd.DataFrame(data)\n",
        "df.to_csv(\"cleaned_data.csv\", index=False)\n",
        "print(\"Cleaned dataset saved as 'cleaned_data.csv'.\")\n",
        "suburb_avg_price = df.groupby(\"Suburb\")[\"Price\"].mean()\n",
        "suburb_avg_price.head(10).plot(kind=\"bar\", color=\"skyblue\")\n",
        "\n",
        "plt.title(\"Average House Prices in Top 10 Suburbs\")\n",
        "plt.xlabel(\"Suburb\")\n",
        "plt.ylabel(\"Average Price\")\n",
        "plt.xticks(rotation=45)\n",
        "plt.show()\n",
        "median_price = df[\"Price\"].median()\n",
        "df[\"Category\"] = df[\"Price\"].apply(lambda x: \"Expensive\" if x > median_price else \"Affordable\")\n",
        "\n",
        "print(\"\\nDataset with price categories:\\n\", df)\n",
        "correlation = df[\"Price\"].corr(df[\"Rooms\"])\n",
        "print(\"\\nCorrelation between Price and Number of Rooms:\", correlation)\n"
      ],
      "metadata": {
        "colab": {
          "base_uri": "https://localhost:8080/",
          "height": 727
        },
        "id": "s1BX4hjAoYGl",
        "outputId": "57a67b28-b887-415b-b9e1-8c11fdd764e6"
      },
      "execution_count": null,
      "outputs": [
        {
          "output_type": "stream",
          "name": "stdout",
          "text": [
            "Cleaned dataset saved as 'cleaned_data.csv'.\n"
          ]
        },
        {
          "output_type": "display_data",
          "data": {
            "text/plain": [
              "<Figure size 640x480 with 1 Axes>"
            ],
            "image/png": "[encoded data removed]"
          },
          "metadata": {}
        },
        {
          "output_type": "stream",
          "name": "stdout",
          "text": [
            "\n",
            "Dataset with price categories:\n",
            "       Suburb    Price  Rooms    Category\n",
            "0   Richmond  1200000      3  Affordable\n",
            "1   Richmond   950000      2  Affordable\n",
            "2  Melbourne  2000000      4   Expensive\n",
            "3   Richmond  1500000      3  Affordable\n",
            "4     Sydney  3000000      5   Expensive\n",
            "5  Melbourne  2200000      4   Expensive\n",
            "\n",
            "Correlation between Price and Number of Rooms: 0.9726038884315016\n"
          ]
        }
      ]
    }
  ]
}